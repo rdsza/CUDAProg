{
  "nbformat": 4,
  "nbformat_minor": 0,
  "metadata": {
    "colab": {
      "provenance": [],
      "authorship_tag": "ABX9TyMO0Qxj28xZg+MhRPG0EjAh",
      "include_colab_link": true
    },
    "kernelspec": {
      "name": "python3",
      "display_name": "Python 3"
    },
    "language_info": {
      "name": "python"
    }
  },
  "cells": [
    {
      "cell_type": "markdown",
      "metadata": {
        "id": "view-in-github",
        "colab_type": "text"
      },
      "source": [
        "<a href=\"https://colab.research.google.com/github/rdsza/CUDAProg/blob/LinAlg/Beginner_LinAlg.ipynb\" target=\"_parent\"><img src=\"https://colab.research.google.com/assets/colab-badge.svg\" alt=\"Open In Colab\"/></a>"
      ]
    },
    {
      "cell_type": "markdown",
      "source": [
        "# Programs to multiply two matrices\n",
        "\n",
        "Given two matrices, the task is to multiply them. Matrices can either be square or rectangular.\n",
        "\n",
        "Notes:\n",
        "- The number of columns in Matrix-1 must be equal to the number of rows in Matrix-2.\n",
        "- Output of multiplication of Matrix-1 and Matrix-2, results with equal to the number of rows of Matrix-1 and  the number of columns of Matrix-2 i.e. rslt[R1][C2]\n",
        "\n"
      ],
      "metadata": {
        "id": "EPiV7WzTOyky"
      }
    },
    {
      "cell_type": "code",
      "source": [
        "%%writefile matrix_mul.cpp\n",
        "\n",
        "#include <iostream>\n",
        "#include <math.h>\n",
        "using namespace std;\n",
        "\n",
        "// Edit MACROs here, according to your matrix dimensions for\n",
        "// mat1[R1][C1] and mat2[R2][C2]\n",
        "#define R1 2 // number of rows in Matrix-1\n",
        "#define C1 2 // number of columns in Matrix-1\n",
        "#define R2 2 // number of rows in Matrix-2\n",
        "#define C2 2 // number of columns in Matrix-2\n",
        "\n",
        "void mulMat(int mat1[][C1], int mat2[][C2]){\n",
        "  int rslt[R1][C2];\n",
        "\n",
        "  cout << \"Multiplication of given two matrices is :\\n\";\n",
        "\n",
        "  for (int i = 0; i < R1; i++){\n",
        "    for (int j = 0; j < C2; j++){\n",
        "      rslt[i][j] = 0;\n",
        "\n",
        "      for (int k = 0; k < R2; k++){\n",
        "        rslt[i][j] += mat1[i][k] * mat2[k][j];\n",
        "      }\n",
        "      cout << rslt[i][j] << \"\\t\";\n",
        "    }\n",
        "    cout << endl;\n",
        "  }\n",
        "\n",
        "}\n",
        "\n",
        "// Driver code\n",
        "int main(){\n",
        "  // R1 = 4, C1 = 4 and R2 = 4, C2 = 4 (Update these\n",
        "  // values in MACROs)\n",
        "  int mat1[R1][C1] = { {1, 1},\n",
        "                       {2, 2} };\n",
        "  int mat2[R2][C2] = { {1, 1},\n",
        "                       {2, 2} };\n",
        "\n",
        "  if (C1 != R2){\n",
        "    cout << \"The number of columns in Matrix-1 must \"\n",
        "            \"be equal to the number of rows in Matrix-2\"\n",
        "            << endl;\n",
        "    cout << \"Please update MACROs according to your \"\n",
        "            \"array dimensions in #define section\"\n",
        "            << endl;\n",
        "    exit(EXIT_FAILURE);\n",
        "  }\n",
        "\n",
        "  // Function call\n",
        "  mulMat(mat1, mat2);\n",
        "\n",
        "  return 0;\n",
        "}"
      ],
      "metadata": {
        "colab": {
          "base_uri": "https://localhost:8080/"
        },
        "id": "VhyJsL2LQACH",
        "outputId": "686ec5ae-829f-4200-84a7-d3ce1f46a2a4"
      },
      "execution_count": 7,
      "outputs": [
        {
          "output_type": "stream",
          "name": "stdout",
          "text": [
            "Overwriting matrix_mul.cpp\n"
          ]
        }
      ]
    },
    {
      "cell_type": "code",
      "source": [
        "%%shell\n",
        "g++ matrix_mul.cpp -o matrix_mul"
      ],
      "metadata": {
        "colab": {
          "base_uri": "https://localhost:8080/"
        },
        "id": "VjbPcuvjUtjD",
        "outputId": "ca86c653-89b2-437c-ebb1-bf1fb6d2e7ac"
      },
      "execution_count": 8,
      "outputs": [
        {
          "output_type": "execute_result",
          "data": {
            "text/plain": []
          },
          "metadata": {},
          "execution_count": 8
        }
      ]
    },
    {
      "cell_type": "code",
      "source": [
        "%%shell\n",
        "./matrix_mul"
      ],
      "metadata": {
        "colab": {
          "base_uri": "https://localhost:8080/"
        },
        "id": "FzKw67YeU3Ka",
        "outputId": "fa0b3a63-680b-4c2a-8817-7a9486c9e42e"
      },
      "execution_count": 9,
      "outputs": [
        {
          "output_type": "stream",
          "name": "stdout",
          "text": [
            "Multiplication of given two matrices is :\n",
            "3\t3\t\n",
            "6\t6\t\n"
          ]
        },
        {
          "output_type": "execute_result",
          "data": {
            "text/plain": []
          },
          "metadata": {},
          "execution_count": 9
        }
      ]
    },
    {
      "cell_type": "code",
      "source": [],
      "metadata": {
        "id": "QsCgpMl0VJXd"
      },
      "execution_count": null,
      "outputs": []
    },
    {
      "cell_type": "code",
      "source": [],
      "metadata": {
        "id": "bH9HDhT4VJVO"
      },
      "execution_count": null,
      "outputs": []
    },
    {
      "cell_type": "code",
      "source": [],
      "metadata": {
        "id": "Bu0Ryn3JVJOt"
      },
      "execution_count": null,
      "outputs": []
    },
    {
      "cell_type": "code",
      "source": [
        "%%writefile matrix_mul.cu\n",
        "\n",
        "// Matrix multiplication using CUDA\n",
        "\n",
        "__global__ void matrixMul(){\n",
        "\n",
        "}\n",
        "\n",
        "int main(){\n",
        "  // Set our square matrix dimensions (2^10 x 2^10 default)\n",
        "  int N = 1 << 10;\n",
        "  size_t bytes = N * N * sizeof(int);\n",
        "\n",
        "  // Allocate memory for our matrices\n",
        "  int *a, int *b, int *c;\n",
        "\n",
        "\n",
        "}\n",
        "\n",
        "\n"
      ],
      "metadata": {
        "id": "s0c0CfgfOyYL"
      },
      "execution_count": null,
      "outputs": []
    },
    {
      "cell_type": "code",
      "source": [],
      "metadata": {
        "id": "JBOpZCmdUs-9"
      },
      "execution_count": null,
      "outputs": []
    },
    {
      "cell_type": "code",
      "execution_count": null,
      "metadata": {
        "id": "0vLwT_tJOgfu"
      },
      "outputs": [],
      "source": []
    }
  ]
}