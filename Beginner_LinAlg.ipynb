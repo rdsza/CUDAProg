{
  "nbformat": 4,
  "nbformat_minor": 0,
  "metadata": {
    "colab": {
      "provenance": [],
      "authorship_tag": "ABX9TyOFNQxZWio++vJosu4xJ7ry",
      "include_colab_link": true
    },
    "kernelspec": {
      "name": "python3",
      "display_name": "Python 3"
    },
    "language_info": {
      "name": "python"
    }
  },
  "cells": [
    {
      "cell_type": "markdown",
      "metadata": {
        "id": "view-in-github",
        "colab_type": "text"
      },
      "source": [
        "<a href=\"https://colab.research.google.com/github/rdsza/CUDAProg/blob/LinAlg/Beginner_LinAlg.ipynb\" target=\"_parent\"><img src=\"https://colab.research.google.com/assets/colab-badge.svg\" alt=\"Open In Colab\"/></a>"
      ]
    },
    {
      "cell_type": "markdown",
      "source": [
        "# Programs to multiply two matrices"
      ],
      "metadata": {
        "id": "EPiV7WzTOyky"
      }
    },
    {
      "cell_type": "code",
      "source": [],
      "metadata": {
        "id": "VhyJsL2LQACH"
      },
      "execution_count": null,
      "outputs": []
    },
    {
      "cell_type": "code",
      "source": [
        "%%writefile matrix_mul.cu\n",
        "\n",
        "//By: Raison Dsouza\n",
        "\n",
        "__global__ void matrixMul(){\n",
        "\n",
        "}\n",
        "\n",
        "int main(){\n",
        "  // Set our square matrix dimensions (2^10 x 2^10 default)\n",
        "  int N = 1 << 10;\n",
        "  size_t bytes = N * N * sizeof(int);\n",
        "\n",
        "  // Allocate memory for our matrices\n",
        "  int *a, int *b, int *c;\n",
        "\n",
        "\n",
        "}\n",
        "\n",
        "\n"
      ],
      "metadata": {
        "id": "s0c0CfgfOyYL"
      },
      "execution_count": null,
      "outputs": []
    },
    {
      "cell_type": "code",
      "execution_count": null,
      "metadata": {
        "id": "0vLwT_tJOgfu"
      },
      "outputs": [],
      "source": []
    }
  ]
}